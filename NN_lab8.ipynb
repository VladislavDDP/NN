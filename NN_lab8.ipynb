{
  "nbformat": 4,
  "nbformat_minor": 0,
  "metadata": {
    "colab": {
      "name": "NN_lab8.ipynb",
      "provenance": [],
      "collapsed_sections": [],
      "authorship_tag": "ABX9TyNGu8/oqYCgePM6FzmhajnJ",
      "include_colab_link": true
    },
    "kernelspec": {
      "name": "python3",
      "display_name": "Python 3"
    },
    "language_info": {
      "name": "python"
    },
    "accelerator": "GPU"
  },
  "cells": [
    {
      "cell_type": "markdown",
      "metadata": {
        "id": "view-in-github",
        "colab_type": "text"
      },
      "source": [
        "<a href=\"https://colab.research.google.com/github/VladislavDDP/NN/blob/main/NN_lab8.ipynb\" target=\"_parent\"><img src=\"https://colab.research.google.com/assets/colab-badge.svg\" alt=\"Open In Colab\"/></a>"
      ]
    },
    {
      "cell_type": "markdown",
      "source": [
        "### Лабораторна робота 8\n",
        "студента групи КН-31 Кучерука Владислава\n",
        "\n",
        "#### Завдання\n",
        "1. Знайти в інтернеті матеріал за напрямком дисципліни, що не розглядався на лекціях\n",
        "2. Навести приклад розв'язання відповідного завдання\n",
        "3. Підготувати презентацію матеріалу\n"
      ],
      "metadata": {
        "id": "Saaj5WbdGe56"
      }
    },
    {
      "cell_type": "markdown",
      "source": [
        "Постановка задачі: згенерувати словосполучення/речень на основі "
      ],
      "metadata": {
        "id": "eJjNiIBrXfqm"
      }
    },
    {
      "cell_type": "code",
      "execution_count": 1,
      "metadata": {
        "id": "5GbAa1RbGaiF"
      },
      "outputs": [],
      "source": [
        "# useful imports\n",
        "\n",
        "import numpy\n",
        "import sys\n",
        "from nltk.tokenize import RegexpTokenizer\n",
        "from nltk.corpus import stopwords\n",
        "from keras.models import Sequential\n",
        "from keras.layers import Dense, Dropout, LSTM\n",
        "from keras.utils import np_utils\n",
        "from keras.callbacks import ModelCheckpoint\n",
        "from nltk import *"
      ]
    },
    {
      "cell_type": "code",
      "source": [
        "file = open(\"text_for_train.txt\").read()"
      ],
      "metadata": {
        "id": "dlxhA1n0GmPq"
      },
      "execution_count": 4,
      "outputs": []
    },
    {
      "cell_type": "code",
      "source": [
        "download('stopwords')\n",
        "\n",
        "def tokenize_words(input):\n",
        "    input = input.lower()\n",
        "\n",
        "    tokenizer = RegexpTokenizer(r'\\w+')\n",
        "    tokens = tokenizer.tokenize(input)\n",
        "\n",
        "    filtered = filter(lambda token: token not in stopwords.words('english'), tokens)\n",
        "    return \" \".join(filtered)"
      ],
      "metadata": {
        "id": "HG6UNvaLGmTC",
        "colab": {
          "base_uri": "https://localhost:8080/"
        },
        "outputId": "8c03634a-3d3e-45f0-b537-876c793b2846"
      },
      "execution_count": 8,
      "outputs": [
        {
          "output_type": "stream",
          "name": "stdout",
          "text": [
            "[nltk_data] Downloading package stopwords to /root/nltk_data...\n",
            "[nltk_data]   Unzipping corpora/stopwords.zip.\n"
          ]
        }
      ]
    },
    {
      "cell_type": "code",
      "source": [
        "processed_inputs = tokenize_words(file)"
      ],
      "metadata": {
        "id": "PJ7j8ayUGmYN"
      },
      "execution_count": 9,
      "outputs": []
    },
    {
      "cell_type": "code",
      "source": [
        "chars = sorted(list(set(processed_inputs)))\n",
        "char_to_num = dict((c, i) for i, c in enumerate(chars))\n",
        "\n",
        "input_len = len(processed_inputs)\n",
        "vocab_len = len(chars)\n",
        "print (\"Total number of characters:\", input_len)\n",
        "print (\"Total vocab:\", vocab_len)"
      ],
      "metadata": {
        "colab": {
          "base_uri": "https://localhost:8080/"
        },
        "id": "QyhmI4XFJ15z",
        "outputId": "7d8a0982-7c0f-4c73-9e89-b6fa9c793295"
      },
      "execution_count": 10,
      "outputs": [
        {
          "output_type": "stream",
          "name": "stdout",
          "text": [
            "Total number of characters: 269878\n",
            "Total vocab: 43\n"
          ]
        }
      ]
    },
    {
      "cell_type": "code",
      "source": [
        "seq_length = 100\n",
        "x_data = []\n",
        "y_data = []\n",
        "\n",
        "for i in range(0, input_len - seq_length, 1):\n",
        "    in_seq = processed_inputs[i:i + seq_length]\n",
        "\n",
        "    out_seq = processed_inputs[i + seq_length]\n",
        "\n",
        "    x_data.append([char_to_num[char] for char in in_seq])\n",
        "    y_data.append(char_to_num[out_seq])\n",
        "\n",
        "n_patterns = len(x_data)\n",
        "print (\"Total Patterns:\", n_patterns)"
      ],
      "metadata": {
        "colab": {
          "base_uri": "https://localhost:8080/"
        },
        "id": "12tE2mP8J2Da",
        "outputId": "82ff14d0-0e58-4ac6-a333-29ba0bb7a117"
      },
      "execution_count": 11,
      "outputs": [
        {
          "output_type": "stream",
          "name": "stdout",
          "text": [
            "Total Patterns: 269778\n"
          ]
        }
      ]
    },
    {
      "cell_type": "code",
      "source": [
        "X = numpy.reshape(x_data, (n_patterns, seq_length, 1))\n",
        "X = X/float(vocab_len)\n",
        "\n",
        "y = np_utils.to_categorical(y_data)"
      ],
      "metadata": {
        "id": "qHgEG29xJ2F4"
      },
      "execution_count": 12,
      "outputs": []
    },
    {
      "cell_type": "code",
      "source": [
        "text_generator_model = Sequential([\n",
        "  LSTM(256, input_shape=(X.shape[1], X.shape[2]), return_sequences=True),\n",
        "  Dropout(0.2),\n",
        "  LSTM(256,return_sequences=True),\n",
        "  Dropout(0.2),\n",
        "  LSTM(128),\n",
        "  Dropout(0.2),\n",
        "  Dense(y.shape[1], activation='softmax')\n",
        "])\n",
        "\n",
        "text_generator_model.compile(loss='categorical_crossentropy', optimizer='adam')"
      ],
      "metadata": {
        "id": "vT84XZeTLG3p"
      },
      "execution_count": 13,
      "outputs": []
    },
    {
      "cell_type": "code",
      "source": [
        "filepath = \"text_generator_model_weights_saved.hdf5\"\n",
        "checkpoint = ModelCheckpoint(filepath, monitor='loss', verbose=1, save_best_only=True, mode='min')\n",
        "desired_callbacks = [checkpoint]"
      ],
      "metadata": {
        "id": "W3luJvoqLG6j"
      },
      "execution_count": 14,
      "outputs": []
    },
    {
      "cell_type": "code",
      "source": [
        "text_generator_model.fit(X, y, epochs=4, batch_size=256, callbacks=desired_callbacks)"
      ],
      "metadata": {
        "colab": {
          "base_uri": "https://localhost:8080/"
        },
        "id": "IOqFeqAkLG9A",
        "outputId": "299ca0cb-bdb3-4134-b555-21b5aeacc619"
      },
      "execution_count": 15,
      "outputs": [
        {
          "output_type": "stream",
          "name": "stdout",
          "text": [
            "Epoch 1/4\n",
            "1054/1054 [==============================] - ETA: 0s - loss: 2.8465\n",
            "Epoch 1: loss improved from inf to 2.84651, saving model to text_generator_model_weights_saved.hdf5\n",
            "1054/1054 [==============================] - 80s 68ms/step - loss: 2.8465\n",
            "Epoch 2/4\n",
            "1054/1054 [==============================] - ETA: 0s - loss: 2.5557\n",
            "Epoch 2: loss improved from 2.84651 to 2.55568, saving model to text_generator_model_weights_saved.hdf5\n",
            "1054/1054 [==============================] - 72s 68ms/step - loss: 2.5557\n",
            "Epoch 3/4\n",
            "1054/1054 [==============================] - ETA: 0s - loss: 2.3767\n",
            "Epoch 3: loss improved from 2.55568 to 2.37671, saving model to text_generator_model_weights_saved.hdf5\n",
            "1054/1054 [==============================] - 72s 68ms/step - loss: 2.3767\n",
            "Epoch 4/4\n",
            "1054/1054 [==============================] - ETA: 0s - loss: 2.2445\n",
            "Epoch 4: loss improved from 2.37671 to 2.24449, saving model to text_generator_model_weights_saved.hdf5\n",
            "1054/1054 [==============================] - 72s 68ms/step - loss: 2.2445\n"
          ]
        },
        {
          "output_type": "execute_result",
          "data": {
            "text/plain": [
              "<keras.callbacks.History at 0x7fcf867aff50>"
            ]
          },
          "metadata": {},
          "execution_count": 15
        }
      ]
    },
    {
      "cell_type": "code",
      "source": [
        "num_to_char = dict((i, c) for i, c in enumerate(chars))\n",
        "\n",
        "start = numpy.random.randint(0, len(x_data) - 1)\n",
        "pattern = x_data[start]\n",
        "print(\"Random Seed:\")\n",
        "print(\"\\\"\", ''.join([num_to_char[value] for value in pattern]), \"\\\"\")"
      ],
      "metadata": {
        "colab": {
          "base_uri": "https://localhost:8080/"
        },
        "id": "4B8vBzQULG_R",
        "outputId": "80899078-979b-4986-e9e3-96de5c1006ca"
      },
      "execution_count": 24,
      "outputs": [
        {
          "output_type": "stream",
          "name": "stdout",
          "text": [
            "Random Seed:\n",
            "\" ttered articulate sounds appeared language neither understood understood cottagers made many signs c \"\n"
          ]
        }
      ]
    },
    {
      "cell_type": "code",
      "source": [
        "for i in range(100):\n",
        "    x = numpy.reshape(pattern, (1, len(pattern), 1))\n",
        "    x = x / float(vocab_len)\n",
        "    prediction = text_generator_model.predict(x, verbose=0)\n",
        "    index = numpy.argmax(prediction)\n",
        "    result = num_to_char[index]\n",
        "\n",
        "    sys.stdout.write(result)\n",
        "\n",
        "    pattern.append(index)\n",
        "    pattern = pattern[1:len(pattern)]"
      ],
      "metadata": {
        "colab": {
          "base_uri": "https://localhost:8080/"
        },
        "id": "AyC7Cv17OaGI",
        "outputId": "b3186975-cc0e-4755-ca1a-7828b17cfc15"
      },
      "execution_count": 26,
      "outputs": [
        {
          "output_type": "stream",
          "name": "stdout",
          "text": [
            "ontent sear sear sear sear sear sear sear sear sear sear sear sear sear sear sear sear sear sear sea"
          ]
        }
      ]
    },
    {
      "cell_type": "code",
      "source": [
        "filepath = \"text_generator_model_weights_saved_v2.hdf5\"\n",
        "checkpoint = ModelCheckpoint(filepath, monitor='loss', verbose=1, save_best_only=True, mode='min')\n",
        "desired_callbacks = [checkpoint]\n",
        "\n",
        "text_generator_model.fit(X, y, epochs=25, batch_size=256, callbacks=desired_callbacks)"
      ],
      "metadata": {
        "colab": {
          "base_uri": "https://localhost:8080/"
        },
        "id": "UQK9m20_O4nF",
        "outputId": "369559dc-d9b4-4d3a-ac7d-e0b27c0da869"
      },
      "execution_count": 27,
      "outputs": [
        {
          "output_type": "stream",
          "name": "stdout",
          "text": [
            "Epoch 1/25\n",
            "1054/1054 [==============================] - ETA: 0s - loss: 2.1409\n",
            "Epoch 1: loss improved from inf to 2.14092, saving model to text_generator_model_weights_saved_v2.hdf5\n",
            "1054/1054 [==============================] - 73s 69ms/step - loss: 2.1409\n",
            "Epoch 2/25\n",
            "1054/1054 [==============================] - ETA: 0s - loss: 2.0637\n",
            "Epoch 2: loss improved from 2.14092 to 2.06373, saving model to text_generator_model_weights_saved_v2.hdf5\n",
            "1054/1054 [==============================] - 72s 69ms/step - loss: 2.0637\n",
            "Epoch 3/25\n",
            "1054/1054 [==============================] - ETA: 0s - loss: 2.0020\n",
            "Epoch 3: loss improved from 2.06373 to 2.00204, saving model to text_generator_model_weights_saved_v2.hdf5\n",
            "1054/1054 [==============================] - 72s 69ms/step - loss: 2.0020\n",
            "Epoch 4/25\n",
            "1054/1054 [==============================] - ETA: 0s - loss: 1.9519\n",
            "Epoch 4: loss improved from 2.00204 to 1.95188, saving model to text_generator_model_weights_saved_v2.hdf5\n",
            "1054/1054 [==============================] - 72s 68ms/step - loss: 1.9519\n",
            "Epoch 5/25\n",
            "1054/1054 [==============================] - ETA: 0s - loss: 1.9114\n",
            "Epoch 5: loss improved from 1.95188 to 1.91139, saving model to text_generator_model_weights_saved_v2.hdf5\n",
            "1054/1054 [==============================] - 72s 68ms/step - loss: 1.9114\n",
            "Epoch 6/25\n",
            "1054/1054 [==============================] - ETA: 0s - loss: 1.8778\n",
            "Epoch 6: loss improved from 1.91139 to 1.87776, saving model to text_generator_model_weights_saved_v2.hdf5\n",
            "1054/1054 [==============================] - 72s 68ms/step - loss: 1.8778\n",
            "Epoch 7/25\n",
            "1054/1054 [==============================] - ETA: 0s - loss: 1.8455\n",
            "Epoch 7: loss improved from 1.87776 to 1.84554, saving model to text_generator_model_weights_saved_v2.hdf5\n",
            "1054/1054 [==============================] - 72s 68ms/step - loss: 1.8455\n",
            "Epoch 8/25\n",
            "1054/1054 [==============================] - ETA: 0s - loss: 1.8203\n",
            "Epoch 8: loss improved from 1.84554 to 1.82034, saving model to text_generator_model_weights_saved_v2.hdf5\n",
            "1054/1054 [==============================] - 72s 68ms/step - loss: 1.8203\n",
            "Epoch 9/25\n",
            "1054/1054 [==============================] - ETA: 0s - loss: 1.7956\n",
            "Epoch 9: loss improved from 1.82034 to 1.79560, saving model to text_generator_model_weights_saved_v2.hdf5\n",
            "1054/1054 [==============================] - 72s 69ms/step - loss: 1.7956\n",
            "Epoch 10/25\n",
            "1054/1054 [==============================] - ETA: 0s - loss: 1.7758\n",
            "Epoch 10: loss improved from 1.79560 to 1.77578, saving model to text_generator_model_weights_saved_v2.hdf5\n",
            "1054/1054 [==============================] - 72s 69ms/step - loss: 1.7758\n",
            "Epoch 11/25\n",
            "1054/1054 [==============================] - ETA: 0s - loss: 1.7554\n",
            "Epoch 11: loss improved from 1.77578 to 1.75536, saving model to text_generator_model_weights_saved_v2.hdf5\n",
            "1054/1054 [==============================] - 72s 69ms/step - loss: 1.7554\n",
            "Epoch 12/25\n",
            "1054/1054 [==============================] - ETA: 0s - loss: 1.7387\n",
            "Epoch 12: loss improved from 1.75536 to 1.73874, saving model to text_generator_model_weights_saved_v2.hdf5\n",
            "1054/1054 [==============================] - 72s 68ms/step - loss: 1.7387\n",
            "Epoch 13/25\n",
            "1054/1054 [==============================] - ETA: 0s - loss: 1.7211\n",
            "Epoch 13: loss improved from 1.73874 to 1.72112, saving model to text_generator_model_weights_saved_v2.hdf5\n",
            "1054/1054 [==============================] - 72s 68ms/step - loss: 1.7211\n",
            "Epoch 14/25\n",
            "1054/1054 [==============================] - ETA: 0s - loss: 1.7066\n",
            "Epoch 14: loss improved from 1.72112 to 1.70655, saving model to text_generator_model_weights_saved_v2.hdf5\n",
            "1054/1054 [==============================] - 72s 68ms/step - loss: 1.7066\n",
            "Epoch 15/25\n",
            "1054/1054 [==============================] - ETA: 0s - loss: 1.6966\n",
            "Epoch 15: loss improved from 1.70655 to 1.69661, saving model to text_generator_model_weights_saved_v2.hdf5\n",
            "1054/1054 [==============================] - 72s 68ms/step - loss: 1.6966\n",
            "Epoch 16/25\n",
            "1054/1054 [==============================] - ETA: 0s - loss: 1.6837\n",
            "Epoch 16: loss improved from 1.69661 to 1.68366, saving model to text_generator_model_weights_saved_v2.hdf5\n",
            "1054/1054 [==============================] - 72s 68ms/step - loss: 1.6837\n",
            "Epoch 17/25\n",
            "1054/1054 [==============================] - ETA: 0s - loss: 1.6720\n",
            "Epoch 17: loss improved from 1.68366 to 1.67203, saving model to text_generator_model_weights_saved_v2.hdf5\n",
            "1054/1054 [==============================] - 72s 68ms/step - loss: 1.6720\n",
            "Epoch 18/25\n",
            "1054/1054 [==============================] - ETA: 0s - loss: 1.6593\n",
            "Epoch 18: loss improved from 1.67203 to 1.65926, saving model to text_generator_model_weights_saved_v2.hdf5\n",
            "1054/1054 [==============================] - 72s 68ms/step - loss: 1.6593\n",
            "Epoch 19/25\n",
            "1054/1054 [==============================] - ETA: 0s - loss: 1.6525\n",
            "Epoch 19: loss improved from 1.65926 to 1.65248, saving model to text_generator_model_weights_saved_v2.hdf5\n",
            "1054/1054 [==============================] - 72s 68ms/step - loss: 1.6525\n",
            "Epoch 20/25\n",
            "1054/1054 [==============================] - ETA: 0s - loss: 1.6425\n",
            "Epoch 20: loss improved from 1.65248 to 1.64254, saving model to text_generator_model_weights_saved_v2.hdf5\n",
            "1054/1054 [==============================] - 72s 69ms/step - loss: 1.6425\n",
            "Epoch 21/25\n",
            "1054/1054 [==============================] - ETA: 0s - loss: 1.6310\n",
            "Epoch 21: loss improved from 1.64254 to 1.63104, saving model to text_generator_model_weights_saved_v2.hdf5\n",
            "1054/1054 [==============================] - 72s 68ms/step - loss: 1.6310\n",
            "Epoch 22/25\n",
            "1054/1054 [==============================] - ETA: 0s - loss: 1.6240\n",
            "Epoch 22: loss improved from 1.63104 to 1.62398, saving model to text_generator_model_weights_saved_v2.hdf5\n",
            "1054/1054 [==============================] - 72s 68ms/step - loss: 1.6240\n",
            "Epoch 23/25\n",
            "1054/1054 [==============================] - ETA: 0s - loss: 1.6171\n",
            "Epoch 23: loss improved from 1.62398 to 1.61713, saving model to text_generator_model_weights_saved_v2.hdf5\n",
            "1054/1054 [==============================] - 72s 69ms/step - loss: 1.6171\n",
            "Epoch 24/25\n",
            "1054/1054 [==============================] - ETA: 0s - loss: 1.6076\n",
            "Epoch 24: loss improved from 1.61713 to 1.60758, saving model to text_generator_model_weights_saved_v2.hdf5\n",
            "1054/1054 [==============================] - 72s 68ms/step - loss: 1.6076\n",
            "Epoch 25/25\n",
            "1054/1054 [==============================] - ETA: 0s - loss: 1.6037\n",
            "Epoch 25: loss improved from 1.60758 to 1.60366, saving model to text_generator_model_weights_saved_v2.hdf5\n",
            "1054/1054 [==============================] - 72s 68ms/step - loss: 1.6037\n"
          ]
        },
        {
          "output_type": "execute_result",
          "data": {
            "text/plain": [
              "<keras.callbacks.History at 0x7fcf7e92b5d0>"
            ]
          },
          "metadata": {},
          "execution_count": 27
        }
      ]
    },
    {
      "cell_type": "code",
      "source": [
        "for i in range(100):\n",
        "    x = numpy.reshape(pattern, (1, len(pattern), 1))\n",
        "    x = x / float(vocab_len)\n",
        "    prediction = text_generator_model.predict(x, verbose=0)\n",
        "    index = numpy.argmax(prediction)\n",
        "    result = num_to_char[index]\n",
        "\n",
        "    sys.stdout.write(result)\n",
        "\n",
        "    pattern.append(index)\n",
        "    pattern = pattern[1:len(pattern)]"
      ],
      "metadata": {
        "colab": {
          "base_uri": "https://localhost:8080/"
        },
        "id": "Yw3betvAWpdr",
        "outputId": "789ada1a-c38f-44a4-9d8e-b3116a7f498d"
      },
      "execution_count": 33,
      "outputs": [
        {
          "output_type": "stream",
          "name": "stdout",
          "text": [
            " sea strange sea strange sea strange sea strange sea strange sea strange sea strange sea strange sea"
          ]
        }
      ]
    },
    {
      "cell_type": "markdown",
      "source": [
        "## Висновок\n",
        "На лабораторній роботі було застосовано рекурентну нейронну мережу для генерації текстів. Для аналізу було взято один з корпусів nltk. Результат вийшов не дуже вдалим, оскільки нейромережа часто зациклюється на одному з паттернів."
      ],
      "metadata": {
        "id": "AWc64ksiGkVt"
      }
    }
  ]
}